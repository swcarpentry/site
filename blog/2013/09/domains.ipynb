{
 "metadata": {
  "name": ""
 },
 "nbformat": 3,
 "nbformat_minor": 0,
 "worksheets": [
  {
   "cells": [
    {
     "cell_type": "code",
     "collapsed": false,
     "input": [
      "import re\n",
      "import matplotlib.pyplot as plt\n",
      "import numpy as np\n",
      "import prettytable\n",
      "splitter = re.compile(r'(?:[^,(]|\\([^)]*\\))+')"
     ],
     "language": "python",
     "metadata": {},
     "outputs": [],
     "prompt_number": 1
    },
    {
     "cell_type": "code",
     "collapsed": false,
     "input": [
      "with open('disciplines.txt') as f:\n",
      "    students = f.readlines()\n",
      "students = [set(d.strip() for d in splitter.findall(student)) for student in students]"
     ],
     "language": "python",
     "metadata": {},
     "outputs": [],
     "prompt_number": 2
    },
    {
     "cell_type": "code",
     "collapsed": false,
     "input": [
      "domains = set()\n",
      "_ = map(domains.update, students)\n",
      "physics = {'Aerospace Engineering', 'Astrophysics', 'Atmospheric Science', \n",
      "           'Earth sciences (geology, oceanography, meteorology)', 'Engineering (civil, mechanical, chemical)', \n",
      "           'Geography', 'Geological Engineering : Environmental', 'Geological Engineering : Geotechnical',\n",
      "           'Geophysics', 'Hydrogeology', 'Hydrology', 'Physical Oceanography', 'Physics', 'Space sciences',\n",
      "           'astronomy', 'biomedical engineering',}\n",
      "chemistry = {'Chemical/Geochemical Oceanography', 'Chemistry', 'Materials Science',\n",
      "             'Materials Science and Engineering', 'materials science',}\n",
      "biology = {'Biological Oceanography', 'Biomechanics', 'Brain and neurosciences', 'Environmental Science', \n",
      "           'Life science (biology, genetics)', 'Life science (ecology, zoology, botany)', 'Medicine', \n",
      "           'Nursing/research',}\n",
      "mathematics_cs = {'Applied Mathematics', 'Applied math', 'Computer science and electrical engineering',\n",
      "                  'Data analysis', 'Mathematics', 'Statistics', 'Tech support', 'data analysis', 'lab tech', \n",
      "                  'or support programmer', 'statistics'}\n",
      "human_social = {'Admin',  'Business', 'Design', 'Economics', 'Human factors & applied psychology', \n",
      "                'Humanities and social sciences', 'Law', 'Legal', 'Librarianship', 'Library Science', \n",
      "                'Library Systems', 'Library science', 'Non-profit', 'editing/publishing', 'finance',}\n",
      "domains = [physics, chemistry, biology, mathematics_cs, human_social]\n",
      "domain_labels = [\"Physics\", \"Chemistry\", \"Biology\", \"Mathematics & Computer Science\", \"Humanities & Social Sciences\"]"
     ],
     "language": "python",
     "metadata": {},
     "outputs": [],
     "prompt_number": 3
    },
    {
     "cell_type": "markdown",
     "metadata": {},
     "source": [
      "Note that the counts calculation may have a sum greater than the total number of students since students may select more than one domain."
     ]
    },
    {
     "cell_type": "code",
     "collapsed": false,
     "input": [
      "counts = np.zeros(5, int)\n",
      "for i, domain in enumerate(domains):\n",
      "    for student in students:\n",
      "        counts[i] += bool(student & domain)"
     ],
     "language": "python",
     "metadata": {},
     "outputs": [],
     "prompt_number": 4
    },
    {
     "cell_type": "code",
     "collapsed": false,
     "input": [
      "ndat = len(domains)\n",
      "dat = 100 * np.asarray(counts, float) / len(students)\n",
      "fig = plt.figure(1)\n",
      "p = plt.subplot(1, 1, 1)\n",
      "plt.bar(range(ndat), dat, align='center', fc='r')\n",
      "plt.axis([-0.5, ndat - 0.5, 0, 100])\n",
      "plt.xticks(range(ndat), domain_labels, rotation=90)\n",
      "plt.ylabel(\"Percentage (%)\")\n",
      "plt.savefig(\"students_by_domain.svg\", bbox_inches=\"tight\")\n",
      "plt.show()\n",
      "plt.close()"
     ],
     "language": "python",
     "metadata": {},
     "outputs": [
      {
       "metadata": {},
       "output_type": "display_data",
       "png": "[encoded data removed]",
       "text": [
        "<matplotlib.figure.Figure at 0x419aa10>"
       ]
      }
     ],
     "prompt_number": 5
    },
    {
     "cell_type": "code",
     "collapsed": false,
     "input": [
      "tab = prettytable.PrettyTable([\"Domain\", \"Percentage (%)\"])\n",
      "for x, y in zip(domain_labels, dat):\n",
      "    tab.add_row([x, \"{0:.2f}\".format(y)])"
     ],
     "language": "python",
     "metadata": {},
     "outputs": [],
     "prompt_number": 6
    },
    {
     "cell_type": "code",
     "collapsed": false,
     "input": [
      "print tab.get_string()"
     ],
     "language": "python",
     "metadata": {},
     "outputs": [
      {
       "output_type": "stream",
       "stream": "stdout",
       "text": [
        "+--------------------------------+----------------+\n",
        "|             Domain             | Percentage (%) |\n",
        "+--------------------------------+----------------+\n",
        "|            Physics             |     45.75      |\n",
        "|           Chemistry            |     13.40      |\n",
        "|            Biology             |     33.01      |\n",
        "| Mathematics & Computer Science |     13.07      |\n",
        "|  Humanities & Social Sciences  |     14.38      |\n",
        "+--------------------------------+----------------+\n"
       ]
      }
     ],
     "prompt_number": 7
    },
    {
     "cell_type": "code",
     "collapsed": false,
     "input": [
      "print tab.get_html_string()"
     ],
     "language": "python",
     "metadata": {},
     "outputs": [
      {
       "output_type": "stream",
       "stream": "stdout",
       "text": [
        "<table border=\"1\">\n",
        "    <tr>\n",
        "        <th>Domain</th>\n",
        "        <th>Percentage (%)</th>\n",
        "    </tr>\n",
        "    <tr>\n",
        "        <td>Physics</td>\n",
        "        <td>45.75</td>\n",
        "    </tr>\n",
        "    <tr>\n",
        "        <td>Chemistry</td>\n",
        "        <td>13.40</td>\n",
        "    </tr>\n",
        "    <tr>\n",
        "        <td>Biology</td>\n",
        "        <td>33.01</td>\n",
        "    </tr>\n",
        "    <tr>\n",
        "        <td>Mathematics &amp; Computer Science</td>\n",
        "        <td>13.07</td>\n",
        "    </tr>\n",
        "    <tr>\n",
        "        <td>Humanities &amp; Social Sciences</td>\n",
        "        <td>14.38</td>\n",
        "    </tr>\n",
        "</table>\n"
       ]
      }
     ],
     "prompt_number": 8
    },
    {
     "cell_type": "code",
     "collapsed": false,
     "input": [],
     "language": "python",
     "metadata": {},
     "outputs": [],
     "prompt_number": 8
    }
   ],
   "metadata": {}
  }
 ]
}